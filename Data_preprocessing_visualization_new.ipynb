{
 "cells": [
  {
   "cell_type": "code",
   "execution_count": 1,
   "metadata": {},
   "outputs": [],
   "source": [
    "import re\n",
    "import csv\n",
    "import pprint \n",
    "import time\n",
    "from wordcloud import WordCloud\n",
    "from collections import Counter\n",
    "import matplotlib.pyplot as plt\n",
    "from nltk import word_tokenize, pos_tag\n",
    "from sklearn.pipeline import Pipeline\n",
    "from nltk.stem.porter import PorterStemmer\n",
    "from sklearn.feature_extraction import DictVectorizer\n",
    "from sklearn.feature_extraction.text import ENGLISH_STOP_WORDS"
   ]
  },
  {
   "cell_type": "code",
   "execution_count": 3,
   "metadata": {},
   "outputs": [],
   "source": [
    "def extract_sentences(trainFile, classesFile):    \n",
    "    cleanedTrainFile = trainFile.copy()\n",
    "    del cleanedTrainFile[7561] # delete weird lines e.g.: [7],The\n",
    "    del cleanedTrainFile[10422] # [3],...\n",
    "    \n",
    "    tags_list = []\n",
    "    sentence_list = []\n",
    "    i = 0\n",
    "    for i, line in enumerate(cleanedTrainFile):\n",
    "        splitLine = line.split(\"\\\",\")\n",
    "        \n",
    "        # extract the POS embeddings [0]\n",
    "        tagsString = splitLine[0].replace(\"\\\"\", \"\").replace(\"[\",\"\").replace(\"]\",\"\")\n",
    "        tags = tagsString.split(\", \")\n",
    "        tags_list.append(tags)\n",
    "        \n",
    "        # extract the sentence [1]\n",
    "        sentence = splitLine[1].strip(\"\\\"\") # from 2nd elem to second last, to remove the extra \"\n",
    "        sentence_list.append(sentence)\n",
    "        \n",
    "    return tags_list, sentence_list"
   ]
  },
  {
   "cell_type": "markdown",
   "metadata": {},
   "source": [
    "# Plotting WordClouds"
   ]
  },
  {
   "cell_type": "markdown",
   "metadata": {},
   "source": [
    "Read in Data\n",
    "---"
   ]
  },
  {
   "cell_type": "code",
   "execution_count": 4,
   "metadata": {},
   "outputs": [
    {
     "name": "stdout",
     "output_type": "stream",
     "text": [
      "There are 35967 rows of data\n",
      "Here is a sample line:\n",
      "\t\"[16, 16, 9, 16, 15, 16, 16, 31, 16, 9, 7, 16, 35, 7, 15, 28, 30, 16, 2]\",Joint Chiefs of Staff Chairman Mike Mullen said Sunday that the U.S. has a plan to strike Iran .\n",
      "['$', ',', '.', ':', ';', 'CC', 'CD', 'DT', 'EX', 'IN', 'JJ', 'JJR', 'JJS', 'LRB', 'MD', 'NN', 'NNP', 'NNPS', 'NNS', 'PDT', 'POS', 'PRP', 'PRP$', 'RB', 'RBR', 'RBS', 'RP', 'RRB', 'TO', 'UH', 'VB', 'VBD', 'VBG', 'VBN', 'VBP', 'VBZ', 'WDT', 'WP', 'WP$', 'WRB', '``']\n"
     ]
    }
   ],
   "source": [
    "y = []\n",
    "with open('../databunch/train.csv') as train_file:\n",
    "    y = train_file.read().splitlines()\n",
    "    \n",
    "print(\"There are {} rows of data\".format(len(y)))\n",
    "print(\"Here is a sample line:\\n\\t{}\".format(y[0]))\n",
    "\n",
    "with open('../databunch/classes.txt') as classes_file:\n",
    "    classes = classes_file.read().splitlines()\n",
    "print(list(classes))"
   ]
  },
  {
   "cell_type": "markdown",
   "metadata": {},
   "source": [
    "Data Preprocessing\n",
    "---"
   ]
  },
  {
   "cell_type": "code",
   "execution_count": 5,
   "metadata": {},
   "outputs": [
    {
     "ename": "NameError",
     "evalue": "name 'sentences_list' is not defined",
     "output_type": "error",
     "traceback": [
      "\u001b[0;31m---------------------------------------------------------------------------\u001b[0m",
      "\u001b[0;31mNameError\u001b[0m                                 Traceback (most recent call last)",
      "\u001b[0;32m<ipython-input-5-96614420fede>\u001b[0m in \u001b[0;36m<module>\u001b[0;34m()\u001b[0m\n\u001b[0;32m----> 1\u001b[0;31m \u001b[0msentences_list\u001b[0m\u001b[0;34m[\u001b[0m\u001b[0;36m0\u001b[0m\u001b[0;34m]\u001b[0m\u001b[0;34m\u001b[0m\u001b[0m\n\u001b[0m",
      "\u001b[0;31mNameError\u001b[0m: name 'sentences_list' is not defined"
     ]
    }
   ],
   "source": [
    "sentences_list[0]"
   ]
  },
  {
   "cell_type": "code",
   "execution_count": 6,
   "metadata": {},
   "outputs": [],
   "source": [
    "processed_sentences = extract_sentences(y, classes)\n",
    "tags_list = processed_sentences[0]\n",
    "sentences_list = processed_sentences[1]\n",
    "\n",
    "# make a string that contains all sentences\n",
    "all_sentence = ''\n",
    "for s in sentences_list:\n",
    "    all_sentence += s\n",
    "    \n",
    "# make a string that contains all tags\n",
    "all_tags_list = []\n",
    "for tags in tags_list:\n",
    "    tags_str = \",\".join(tags)\n",
    "    all_tags_list.append(tags_str)\n",
    "all_tags = \",\".join(all_tags_list)\n",
    "#all_tags"
   ]
  },
  {
   "cell_type": "code",
   "execution_count": 7,
   "metadata": {},
   "outputs": [],
   "source": [
    "words = all_sentence.split()\n",
    "words = [w.lower() for w in words]\n",
    "stemmer = PorterStemmer()\n",
    "stemmed = [stemmer.stem(w) for w in words]"
   ]
  },
  {
   "cell_type": "markdown",
   "metadata": {},
   "source": [
    "WordCloud for words\n",
    "---"
   ]
  },
  {
   "cell_type": "code",
   "execution_count": 8,
   "metadata": {},
   "outputs": [
    {
     "data": {
      "image/png": "[encoded data removed]",
      "text/plain": [
       "<Figure size 360x216 with 1 Axes>"
      ]
     },
     "metadata": {},
     "output_type": "display_data"
    }
   ],
   "source": [
    "wordcloud = WordCloud()\n",
    "picky_words = ['.the', ',', '\\'s', 'said', 'says', 'say', '\\\"\\\"', '.a']\n",
    "goodwords = [w for w in words if w not in ENGLISH_STOP_WORDS if w not in picky_words]\n",
    "\n",
    "goodctr = Counter(goodwords)\n",
    "wtuples = goodctr.most_common(30)\n",
    "wdict = dict(wtuples)\n",
    "\n",
    "wordcloud = WordCloud()\n",
    "wordcloud.fit_words(wdict)\n",
    "\n",
    "fig=plt.figure(figsize=(5, 3))\n",
    "plt.imshow(wordcloud)\n",
    "plt.axis(\"off\")\n",
    "plt.show()"
   ]
  },
  {
   "cell_type": "markdown",
   "metadata": {
    "slideshow": {
     "slide_type": "slide"
    }
   },
   "source": [
    "WordCloud for Labels\n",
    "---"
   ]
  },
  {
   "cell_type": "code",
   "execution_count": 10,
   "metadata": {
    "scrolled": true,
    "slideshow": {
     "slide_type": "fragment"
    }
   },
   "outputs": [
    {
     "data": {
      "image/png": "[encoded data removed]",
      "text/plain": [
       "<Figure size 360x216 with 1 Axes>"
      ]
     },
     "metadata": {},
     "output_type": "display_data"
    },
    {
     "data": {
      "text/plain": [
       "Counter({'16': 98458,\n",
       "         '9': 91021,\n",
       "         '15': 109352,\n",
       "         '31': 29499,\n",
       "         '7': 73925,\n",
       "         '35': 18673,\n",
       "         '28': 17314,\n",
       "         '30': 18165,\n",
       "         '2': 35874,\n",
       "         '18': 56813,\n",
       "         '1': 24524,\n",
       "         '36': 2727,\n",
       "         '40': 2841,\n",
       "         '34': 12069,\n",
       "         '23': 15208,\n",
       "         '10': 58916,\n",
       "         '21': 9937,\n",
       "         '32': 14406,\n",
       "         '14': 5204,\n",
       "         '33': 24258,\n",
       "         '39': 1579,\n",
       "         '5': 17791,\n",
       "         '20': 8311,\n",
       "         '37': 1907,\n",
       "         '6': 18545,\n",
       "         '12': 2255,\n",
       "         '24': 791,\n",
       "         '22': 6518,\n",
       "         '11': 2273,\n",
       "         '17': 1865,\n",
       "         '8': 513,\n",
       "         '26': 1874,\n",
       "         '0': 858,\n",
       "         '19': 109,\n",
       "         '3': 599,\n",
       "         '4': 141,\n",
       "         '13': 499,\n",
       "         '27': 499,\n",
       "         '25': 211,\n",
       "         '38': 78,\n",
       "         '29': 21})"
      ]
     },
     "execution_count": 10,
     "metadata": {},
     "output_type": "execute_result"
    }
   ],
   "source": [
    "tags = all_tags.split(',')\n",
    "classctr = Counter(tags)\n",
    "wtuples = classctr.most_common(30)\n",
    "wdict = dict(wtuples)\n",
    "\n",
    "wordcloud = WordCloud()\n",
    "wordcloud.fit_words(wdict)\n",
    "\n",
    "fig=plt.figure(figsize=(5, 3))\n",
    "plt.imshow(wordcloud)\n",
    "plt.axis(\"off\")\n",
    "plt.show()"
   ]
  },
  {
   "cell_type": "markdown",
   "metadata": {
    "slideshow": {
     "slide_type": "subslide"
    }
   },
   "source": [
    "|#|POS|\n",
    "|---|---|\n",
    "|15| Proper noun, plural|\n",
    "|16| Predeterminer|\n",
    "|9| Adjective, superlative|\n",
    "|7| Adjective|\n",
    "|10| List item marker|"
   ]
  },
  {
   "cell_type": "code",
   "execution_count": 22,
   "metadata": {},
   "outputs": [
    {
     "data": {
      "text/plain": [
       "0.1390502033897874"
      ]
     },
     "execution_count": 22,
     "metadata": {},
     "output_type": "execute_result"
    }
   ],
   "source": [
    "sum = 0\n",
    "for tag in classctr:\n",
    "    sum = sum + classctr[tag]\n",
    "sum\n",
    "  \n",
    "dummy = sum - 109352\n",
    "\n",
    "109352/sum"
   ]
  },
  {
   "cell_type": "code",
   "execution_count": null,
   "metadata": {},
   "outputs": [],
   "source": []
  }
 ],
 "metadata": {
  "celltoolbar": "Slideshow",
  "kernelspec": {
   "display_name": "Python 3",
   "language": "python",
   "name": "python3"
  },
  "language_info": {
   "codemirror_mode": {
    "name": "ipython",
    "version": 3
   },
   "file_extension": ".py",
   "mimetype": "text/x-python",
   "name": "python",
   "nbconvert_exporter": "python",
   "pygments_lexer": "ipython3",
   "version": "3.6.5"
  }
 },
 "nbformat": 4,
 "nbformat_minor": 2
}
